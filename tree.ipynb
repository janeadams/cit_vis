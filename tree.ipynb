{
 "cells": [
  {
   "cell_type": "code",
   "execution_count": 9,
   "metadata": {},
   "outputs": [
    {
     "data": {
      "text/plain": [
       "[{'microbe': 'Microbe1', 'split': '<=', 'value': '95.62', 'depth': 1},\n",
       " {'microbe': 'Microbe26', 'split': '<=', 'value': '85.50', 'depth': 2},\n",
       " {'microbe': 'Microbe2', 'split': '<=', 'value': '84.12', 'depth': 3},\n",
       " {'microbe': 'Microbe2', 'split': '>', 'value': '84.12', 'depth': 3},\n",
       " {'microbe': 'Microbe26', 'split': '>', 'value': '85.50', 'depth': 2},\n",
       " {'microbe': 'Microbe1', 'split': '>', 'value': '95.62', 'depth': 1},\n",
       " {'microbe': 'Microbe14', 'split': '<=', 'value': '114.55', 'depth': 2},\n",
       " {'microbe': 'Microbe12', 'split': '<=', 'value': '108.25', 'depth': 3},\n",
       " {'microbe': 'Microbe28', 'split': '<=', 'value': '69.29', 'depth': 4},\n",
       " {'microbe': 'Microbe28', 'split': '>', 'value': '69.29', 'depth': 4},\n",
       " {'microbe': 'Microbe12', 'split': '>', 'value': '108.25', 'depth': 3},\n",
       " {'microbe': 'Microbe13', 'split': '<=', 'value': '76.52', 'depth': 4},\n",
       " {'microbe': 'Microbe13', 'split': '>', 'value': '76.52', 'depth': 4},\n",
       " {'microbe': 'Microbe13', 'split': '<=', 'value': '134.10', 'depth': 5},\n",
       " {'microbe': 'Microbe13', 'split': '>', 'value': '134.10', 'depth': 5},\n",
       " {'microbe': 'Microbe14', 'split': '>', 'value': '114.55', 'depth': 2}]"
      ]
     },
     "execution_count": 9,
     "metadata": {},
     "output_type": "execute_result"
    }
   ],
   "source": [
    "import os\n",
    "def format_rules(trait='Trait1', data_dir='data'):\n",
    "    # Read the text file\n",
    "    rules = open(os.path.join(data_dir, trait, \"rules.txt\")).read()\n",
    "    # Create an array of dictionaries for each rule\n",
    "    formatted_rules = []\n",
    "    \n",
    "    for i, line in enumerate(rules.split(\"\\n\")):\n",
    "        depth = line.count('|')\n",
    "        elements = line.split( )[depth:]\n",
    "        if len(elements) == 3:\n",
    "            if elements[0] != 'class:':\n",
    "                microbe, split, value = elements\n",
    "                if split in [\"<\", \"<=\"]:\n",
    "                    side = \"left\"\n",
    "                else:\n",
    "                    side = \"right\"\n",
    "                formatted_rules.append({'microbe': microbe, 'split': side, 'value': value, 'depth': depth})\n",
    "    return formatted_rules\n",
    "rules = format_rules()\n",
    "rules"
   ]
  },
  {
   "cell_type": "code",
   "execution_count": 12,
   "metadata": {},
   "outputs": [],
   "source": [
    "def parse_rules(formatted_rules):\n",
    "    nodes = {}\n",
    "    for i, rule in enumerate(formatted_rules):\n",
    "        microbe, split, value, depth = rule['microbe'], rule['split'], rule['value'], rule['depth']\n",
    "        if microbe not in nodes:\n",
    "            nodes[microbe] = {'value': value, 'left': None, 'right': None, 'parent': None}\n",
    "            if split in [\"<\", \"<=\"]:\n",
    "                nodes[microbe]['split'] = float(value)\n",
    "            # left and right will be the left and right children of the node\n",
    "            next_rule = formatted_rules[i+1] if i+1 < len(formatted_rules) else None\n",
    "            if (next_rule & next_rule.get('depth', 0) > depth):\n",
    "    return nodes"
   ]
  },
  {
   "cell_type": "code",
   "execution_count": 13,
   "metadata": {},
   "outputs": [
    {
     "data": {
      "text/plain": [
       "{'Microbe1': {'value': '95.62',\n",
       "  'left': 'Microbe26',\n",
       "  'right': None,\n",
       "  'parent': None},\n",
       " 'Microbe26': {'value': '85.50',\n",
       "  'left': 'Microbe2',\n",
       "  'right': None,\n",
       "  'parent': None},\n",
       " 'Microbe2': {'value': '84.12', 'left': None, 'right': None, 'parent': None},\n",
       " 'Microbe14': {'value': '114.55',\n",
       "  'left': 'Microbe12',\n",
       "  'right': None,\n",
       "  'parent': None},\n",
       " 'Microbe12': {'value': '108.25',\n",
       "  'left': 'Microbe28',\n",
       "  'right': None,\n",
       "  'parent': None},\n",
       " 'Microbe28': {'value': '69.29', 'left': None, 'right': None, 'parent': None},\n",
       " 'Microbe13': {'value': '76.52', 'left': None, 'right': None, 'parent': None}}"
      ]
     },
     "execution_count": 13,
     "metadata": {},
     "output_type": "execute_result"
    }
   ],
   "source": [
    "parse_rules(rules)"
   ]
  },
  {
   "cell_type": "code",
   "execution_count": null,
   "metadata": {},
   "outputs": [],
   "source": []
  }
 ],
 "metadata": {
  "kernelspec": {
   "display_name": ".venv",
   "language": "python",
   "name": "python3"
  },
  "language_info": {
   "codemirror_mode": {
    "name": "ipython",
    "version": 3
   },
   "file_extension": ".py",
   "mimetype": "text/x-python",
   "name": "python",
   "nbconvert_exporter": "python",
   "pygments_lexer": "ipython3",
   "version": "3.12.2"
  }
 },
 "nbformat": 4,
 "nbformat_minor": 2
}
