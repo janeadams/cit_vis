{
 "cells": [
  {
   "cell_type": "code",
   "execution_count": 1,
   "metadata": {},
   "outputs": [],
   "source": [
    "from cit_vis.setup import make_data\n",
    "make_data()"
   ]
  },
  {
   "cell_type": "code",
   "execution_count": 2,
   "metadata": {},
   "outputs": [],
   "source": [
    "from cit_vis.parse import parse_data\n",
    "parse_data()"
   ]
  },
  {
   "cell_type": "code",
   "execution_count": 3,
   "metadata": {},
   "outputs": [
    {
     "name": "stdout",
     "output_type": "stream",
     "text": [
      "['Microbe60', 'Microbe44', 'Group7']\n",
      "not a leaf node? Microbe60 Microbe44\n",
      "i think this is a leaf node Microbe44 Group7\n",
      "['Microbe60', 'Microbe54', 'Group5']\n",
      "not a leaf node? Microbe60 Microbe54\n",
      "i think this is a leaf node Microbe54 Group5\n",
      "['Microbe60', 'Microbe44', 'Group8']\n",
      "not a leaf node? Microbe60 Microbe44\n",
      "i think this is a leaf node Microbe44 Group8\n",
      "['Microbe60', 'Microbe54', 'Microbe16', 'Group3']\n",
      "not a leaf node? Microbe60 Microbe54\n",
      "not a leaf node? Microbe54 Microbe16\n",
      "i think this is a leaf node Microbe16 Group3\n",
      "['Microbe60', 'Microbe54', 'Microbe16', 'Group4']\n",
      "not a leaf node? Microbe60 Microbe54\n",
      "not a leaf node? Microbe54 Microbe16\n",
      "i think this is a leaf node Microbe16 Group4\n"
     ]
    },
    {
     "data": {
      "text/html": [
       "\n",
       "        <iframe\n",
       "            width=\"100%\"\n",
       "            height=\"650\"\n",
       "            src=\"http://127.0.0.1:8050/\"\n",
       "            frameborder=\"0\"\n",
       "            allowfullscreen\n",
       "            \n",
       "        ></iframe>\n",
       "        "
      ],
      "text/plain": [
       "<IPython.lib.display.IFrame at 0x14b511fa0>"
      ]
     },
     "metadata": {},
     "output_type": "display_data"
    },
    {
     "name": "stdout",
     "output_type": "stream",
     "text": [
      "['Microbe60', 'Microbe44', 'Group7']\n",
      "not a leaf node? Microbe60 Microbe44\n",
      "i think this is a leaf node Microbe44 Group7\n",
      "['Microbe60', 'Microbe54', 'Group5']\n",
      "not a leaf node? Microbe60 Microbe54\n",
      "i think this is a leaf node Microbe54 Group5\n",
      "['Microbe60', 'Microbe44', 'Group8']\n",
      "not a leaf node? Microbe60 Microbe44\n",
      "i think this is a leaf node Microbe44 Group8\n",
      "['Microbe60', 'Microbe54', 'Microbe16', 'Group3']\n",
      "not a leaf node? Microbe60 Microbe54\n",
      "not a leaf node? Microbe54 Microbe16\n",
      "i think this is a leaf node Microbe16 Group3\n",
      "['Microbe60', 'Microbe54', 'Microbe16', 'Group4']\n",
      "not a leaf node? Microbe60 Microbe54\n",
      "not a leaf node? Microbe54 Microbe16\n",
      "i think this is a leaf node Microbe16 Group4\n"
     ]
    }
   ],
   "source": [
    "from cit_vis.visualization import *\n",
    "make_dashboard()"
   ]
  },
  {
   "cell_type": "code",
   "execution_count": null,
   "metadata": {},
   "outputs": [],
   "source": []
  }
 ],
 "metadata": {
  "kernelspec": {
   "display_name": ".venv",
   "language": "python",
   "name": "python3"
  },
  "language_info": {
   "codemirror_mode": {
    "name": "ipython",
    "version": 3
   },
   "file_extension": ".py",
   "mimetype": "text/x-python",
   "name": "python",
   "nbconvert_exporter": "python",
   "pygments_lexer": "ipython3",
   "version": "3.12.2"
  }
 },
 "nbformat": 4,
 "nbformat_minor": 2
}
