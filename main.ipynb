{
 "cells": [
  {
   "cell_type": "code",
   "execution_count": 1,
   "metadata": {},
   "outputs": [],
   "source": [
    "from cit_vis.setup import make_data\n",
    "make_data()"
   ]
  },
  {
   "cell_type": "code",
   "execution_count": 2,
   "metadata": {},
   "outputs": [
    {
     "name": "stdout",
     "output_type": "stream",
     "text": [
      "  Unnamed: 0     Genus_1     Genus_2     Genus_3     Genus_4     Genus_5  \\\n",
      "0    Mouse_1   81.032679   99.736394   38.312253   71.901304  126.507641   \n",
      "1    Mouse_2  122.959601   72.573062  158.791861  111.771046  107.304604   \n",
      "2    Mouse_3  111.962813  108.815694   73.237023   92.273285   89.893588   \n",
      "3    Mouse_4  152.976590  132.879100  119.872103   89.824814   75.535344   \n",
      "4    Mouse_5   92.463230  101.322242   62.743901  135.167081   95.104634   \n",
      "\n",
      "      Genus_6     Genus_7     Genus_8     Genus_9  ...   Genus_21    Genus_22  \\\n",
      "0  105.502308   83.303875  102.830321   92.436568  ...  77.349512   85.694374   \n",
      "1  124.468101   77.671340   83.425814  105.151985  ...  71.631185  100.042669   \n",
      "2  101.481114   99.547387   98.153981  111.278621  ...  79.942729  110.897512   \n",
      "3  103.497778  167.390672  141.134038   71.011169  ...  71.242078   85.874852   \n",
      "4  111.736405  112.994754   55.558257  102.022214  ...  87.845566   78.990632   \n",
      "\n",
      "     Genus_23    Genus_24   Genus_25   Genus_26    Genus_27    Genus_28  \\\n",
      "0   93.016070  129.587071  65.973249  57.465385   92.991462   77.432453   \n",
      "1  118.965059  103.658804  84.606697  73.909750  129.824253  109.679483   \n",
      "2  107.413438  107.351581  94.598002  87.055656   98.471268  135.589484   \n",
      "3  124.185618  104.917108  95.812463  78.279891  102.925478   98.988010   \n",
      "4   95.672071  144.375157  68.474265  58.418116   99.567640  131.707168   \n",
      "\n",
      "    Genus_29    Genus_30  \n",
      "0  76.630707  117.083420  \n",
      "1  99.564910  115.314753  \n",
      "2  89.480557  127.121745  \n",
      "3  96.294331  123.836055  \n",
      "4  93.617536  107.205029  \n",
      "\n",
      "[5 rows x 31 columns]\n",
      "(50, 31)\n",
      "\n"
     ]
    },
    {
     "ename": "TypeError",
     "evalue": "type 'slice' is not subscriptable",
     "output_type": "error",
     "traceback": [
      "\u001b[1;31m---------------------------------------------------------------------------\u001b[0m",
      "\u001b[1;31mTypeError\u001b[0m                                 Traceback (most recent call last)",
      "Cell \u001b[1;32mIn[2], line 2\u001b[0m\n\u001b[0;32m      1\u001b[0m \u001b[38;5;28;01mfrom\u001b[39;00m \u001b[38;5;21;01mcit_vis\u001b[39;00m\u001b[38;5;21;01m.\u001b[39;00m\u001b[38;5;21;01mvisualization\u001b[39;00m \u001b[38;5;28;01mimport\u001b[39;00m \u001b[38;5;241m*\u001b[39m\n\u001b[1;32m----> 2\u001b[0m \u001b[43mmake_dashboard\u001b[49m\u001b[43m(\u001b[49m\u001b[43m)\u001b[49m\n",
      "File \u001b[1;32mc:\\Users\\janeadams\\Desktop\\Projects\\cit_vis\\cit_vis\\visualization.py:191\u001b[0m, in \u001b[0;36mmake_dashboard\u001b[1;34m()\u001b[0m\n\u001b[0;32m    188\u001b[0m df \u001b[38;5;241m=\u001b[39m get_assay_scores(selected_assay)\n\u001b[0;32m    189\u001b[0m color_scale \u001b[38;5;241m=\u001b[39m create_color_scale(df)\n\u001b[1;32m--> 191\u001b[0m grid \u001b[38;5;241m=\u001b[39m \u001b[43mmake_grid\u001b[49m\u001b[43m(\u001b[49m\u001b[43mselected_assay\u001b[49m\u001b[43m)\u001b[49m\n\u001b[0;32m    193\u001b[0m app \u001b[38;5;241m=\u001b[39m dash\u001b[38;5;241m.\u001b[39mDash(\u001b[38;5;18m__name__\u001b[39m)\n\u001b[0;32m    195\u001b[0m app\u001b[38;5;241m.\u001b[39mlayout \u001b[38;5;241m=\u001b[39m html\u001b[38;5;241m.\u001b[39mDiv([\n\u001b[0;32m    196\u001b[0m     html\u001b[38;5;241m.\u001b[39mH1(\u001b[38;5;124m\"\u001b[39m\u001b[38;5;124mCIT Visualization\u001b[39m\u001b[38;5;124m\"\u001b[39m),\n\u001b[0;32m    197\u001b[0m     html\u001b[38;5;241m.\u001b[39mDiv([\n\u001b[1;32m   (...)\u001b[0m\n\u001b[0;32m    214\u001b[0m     dcc\u001b[38;5;241m.\u001b[39mStore(\u001b[38;5;28mid\u001b[39m\u001b[38;5;241m=\u001b[39m\u001b[38;5;124m'\u001b[39m\u001b[38;5;124mselected-assay\u001b[39m\u001b[38;5;124m'\u001b[39m, data\u001b[38;5;241m=\u001b[39mselected_assay)\n\u001b[0;32m    215\u001b[0m ])\n",
      "File \u001b[1;32mc:\\Users\\janeadams\\Desktop\\Projects\\cit_vis\\cit_vis\\visualization.py:170\u001b[0m, in \u001b[0;36mmake_grid\u001b[1;34m(assay)\u001b[0m\n\u001b[0;32m    168\u001b[0m \u001b[38;5;28;01mdef\u001b[39;00m \u001b[38;5;21mmake_grid\u001b[39m(assay):\n\u001b[0;32m    169\u001b[0m     content \u001b[38;5;241m=\u001b[39m []\n\u001b[1;32m--> 170\u001b[0m     depths \u001b[38;5;241m=\u001b[39m \u001b[43mmake_charts\u001b[49m\u001b[43m(\u001b[49m\u001b[43massay\u001b[49m\u001b[43m)\u001b[49m\n\u001b[0;32m    171\u001b[0m     \u001b[38;5;28;01mfor\u001b[39;00m depth, figs \u001b[38;5;129;01min\u001b[39;00m depths\u001b[38;5;241m.\u001b[39mitems():\n\u001b[0;32m    172\u001b[0m         figs \u001b[38;5;241m=\u001b[39m [f \u001b[38;5;28;01mfor\u001b[39;00m f \u001b[38;5;129;01min\u001b[39;00m figs \u001b[38;5;28;01mif\u001b[39;00m f \u001b[38;5;129;01mis\u001b[39;00m \u001b[38;5;129;01mnot\u001b[39;00m \u001b[38;5;28;01mNone\u001b[39;00m]\n",
      "File \u001b[1;32mc:\\Users\\janeadams\\Desktop\\Projects\\cit_vis\\cit_vis\\visualization.py:146\u001b[0m, in \u001b[0;36mmake_charts\u001b[1;34m(assay)\u001b[0m\n\u001b[0;32m    143\u001b[0m \u001b[38;5;28;01mif\u001b[39;00m compute:\n\u001b[0;32m    144\u001b[0m     \u001b[38;5;66;03m# Update how you slice your data if necessary\u001b[39;00m\n\u001b[0;32m    145\u001b[0m     subset \u001b[38;5;241m=\u001b[39m get_subset(row, g)\n\u001b[1;32m--> 146\u001b[0m     subset[assay] \u001b[38;5;241m=\u001b[39m [assay_lookup[m] \u001b[38;5;28;01mfor\u001b[39;00m m \u001b[38;5;129;01min\u001b[39;00m \u001b[38;5;28;43mslice\u001b[39;49m\u001b[43m[\u001b[49m\u001b[38;5;124;43m'\u001b[39;49m\u001b[38;5;124;43mMouse_ID\u001b[39;49m\u001b[38;5;124;43m'\u001b[39;49m\u001b[43m]\u001b[49m]\n\u001b[0;32m    147\u001b[0m     subset[\u001b[38;5;124m'\u001b[39m\u001b[38;5;124mgroup\u001b[39m\u001b[38;5;124m'\u001b[39m] \u001b[38;5;241m=\u001b[39m \u001b[38;5;28mslice\u001b[39m[g]\u001b[38;5;241m.\u001b[39mapply(\u001b[38;5;28;01mlambda\u001b[39;00m x: \u001b[38;5;124m'\u001b[39m\u001b[38;5;124mbelow\u001b[39m\u001b[38;5;124m'\u001b[39m \u001b[38;5;28;01mif\u001b[39;00m x \u001b[38;5;241m<\u001b[39m v \u001b[38;5;28;01melse\u001b[39;00m \u001b[38;5;124m'\u001b[39m\u001b[38;5;124mabove\u001b[39m\u001b[38;5;124m'\u001b[39m)\n\u001b[0;32m    149\u001b[0m     \u001b[38;5;66;03m# Create your plotly chart here (adjust as needed)\u001b[39;00m\n",
      "\u001b[1;31mTypeError\u001b[0m: type 'slice' is not subscriptable"
     ]
    }
   ],
   "source": [
    "from cit_vis.visualization import *\n",
    "make_dashboard()"
   ]
  },
  {
   "cell_type": "code",
   "execution_count": null,
   "metadata": {},
   "outputs": [],
   "source": []
  }
 ],
 "metadata": {
  "kernelspec": {
   "display_name": ".venv",
   "language": "python",
   "name": "python3"
  },
  "language_info": {
   "codemirror_mode": {
    "name": "ipython",
    "version": 3
   },
   "file_extension": ".py",
   "mimetype": "text/x-python",
   "name": "python",
   "nbconvert_exporter": "python",
   "pygments_lexer": "ipython3",
   "version": "3.11.4"
  }
 },
 "nbformat": 4,
 "nbformat_minor": 2
}
